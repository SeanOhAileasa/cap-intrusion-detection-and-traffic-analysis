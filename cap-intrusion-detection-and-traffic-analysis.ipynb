{
 "cells": [
  {
   "cell_type": "markdown",
   "id": "d4ee9e4b",
   "metadata": {},
   "source": [
    "***\n",
    "< [Home](https://github.com/SeanOhAileasa) | [README](https://github.com/SeanOhAileasa/cap-intrusion-detection-and-traffic-analysis/blob/main/README.md) >\n",
    "\n",
    "## CompTIA Cybersecurity Analyst (CySA+) - Course Material 2022\n",
    "###### Topic: ``Intrusion Detection and Traffic Analysis``\n",
    "***"
   ]
  },
  {
   "cell_type": "markdown",
   "id": "b82b07fb",
   "metadata": {},
   "source": [
    "Course material for the ``CompTIA Cybersecurity Analyst (CySA+)`` module of the ``ICT Associate Apprenticeship (Cybersecurity)`` programme."
   ]
  },
  {
   "cell_type": "markdown",
   "id": "e7228f57",
   "metadata": {},
   "source": [
    "<a id=\"top\"></a>\n",
    "***\n",
    "## Table of Contents\n",
    "***"
   ]
  },
  {
   "cell_type": "markdown",
   "id": "c2bb5e7b",
   "metadata": {},
   "source": [
    "### [Intrusion Detection and Traffic Analysis](#IntrusionDetectionandTrafficAnalysis) <br/><br/>\n",
    "<hr width=50%;>"
   ]
  },
  {
   "cell_type": "markdown",
   "id": "862a736f",
   "metadata": {},
   "source": [
    "### [Sample Log Entry Analysis](#SampleLogEntryAnalysis) <br/><br/>\n",
    "<hr width=50%;>"
   ]
  },
  {
   "cell_type": "markdown",
   "id": "c8e53c83",
   "metadata": {},
   "source": [
    "### [Burp Suite Reports](#BurpSuiteReports) <br/><br/>\n",
    "<hr width=50%;>"
   ]
  },
  {
   "cell_type": "markdown",
   "id": "868c241c",
   "metadata": {},
   "source": [
    "### [Nikto Web App Scanning](#NiktoWebAppScanning) <br/><br/>\n",
    "<hr width=50%;>"
   ]
  },
  {
   "cell_type": "markdown",
   "id": "0eb1456a",
   "metadata": {},
   "source": [
    "### [Kali Linux Cloud Deployment](#KaliLinuxCloudDeployment) <br/><br/>\n",
    "<hr width=50%;>"
   ]
  },
  {
   "cell_type": "markdown",
   "id": "9657b84d",
   "metadata": {},
   "source": [
    "### [Snort Installation](#SnortInstallation) <br/><br/>\n",
    "<hr width=50%;>"
   ]
  },
  {
   "cell_type": "markdown",
   "id": "3d356e08",
   "metadata": {},
   "source": [
    "### [Snort Rules](#SnortRules) <br/><br/>\n",
    "<hr width=50%;>"
   ]
  },
  {
   "cell_type": "markdown",
   "id": "8a44e7f9",
   "metadata": {},
   "source": [
    "### [Industrial Control System Network Traffic](#IndustrialControlSystemNetworkTraffic) <br/><br/>\n",
    "<hr width=50%;>"
   ]
  },
  {
   "cell_type": "markdown",
   "id": "7c641d9e",
   "metadata": {},
   "source": [
    "### [HTTP Authentication Traffic](#HTTPAuthenticationTraffic) <br/><br/>\n",
    "<hr width=50%;>"
   ]
  },
  {
   "cell_type": "markdown",
   "id": "fdade79a",
   "metadata": {},
   "source": [
    "### [VoIP Traffic Analysis](#VoIPTrafficAnalysis) <br/><br/>\n",
    "<hr width=50%;>"
   ]
  },
  {
   "cell_type": "markdown",
   "id": "cf63e3cd",
   "metadata": {},
   "source": [
    "### [Online Network Traffic Analysis](#OnlineNetworkTrafficAnalysis) <br/><br/>\n",
    "<hr width=50%;>"
   ]
  },
  {
   "cell_type": "markdown",
   "id": "3cbedb5b",
   "metadata": {},
   "source": [
    "### [IEEE 802.11 WPA Traffic](#IEEE80211WPATraffic) <br/><br/>\n",
    "<hr width=50%;>"
   ]
  },
  {
   "cell_type": "markdown",
   "id": "85e1dea9",
   "metadata": {},
   "source": [
    "### [Steganography and Hashing](#SteganographyandHashing) <br/><br/>\n",
    "<hr width=50%;>"
   ]
  },
  {
   "cell_type": "markdown",
   "id": "fc9523ba",
   "metadata": {},
   "source": [
    "### [Wi-Fi Connected Devices](#WiFiConnectedDevices) <br/><br/>\n",
    "<hr width=50%;>"
   ]
  },
  {
   "cell_type": "markdown",
   "id": "db9da509",
   "metadata": {},
   "source": [
    "### [Third-party File Encryption](#ThirdpartyFileEncryption) <br/><br/>\n",
    "<hr width=50%;>"
   ]
  },
  {
   "cell_type": "markdown",
   "id": "46d92355",
   "metadata": {},
   "source": [
    "### [Aircrack-ng](#Aircrackng) <br/><br/>\n",
    "<hr width=50%;>"
   ]
  },
  {
   "cell_type": "markdown",
   "id": "3335e77b",
   "metadata": {},
   "source": [
    "### [Kismet](#Kismet) <br/><br/>\n",
    "<hr width=50%;>"
   ]
  },
  {
   "cell_type": "markdown",
   "id": "0315edd5",
   "metadata": {},
   "source": [
    "### [Cloud Vulnerability Scanning](#CloudVulnerabilityScanning) <br/><br/>\n",
    "<hr width=50%;>"
   ]
  },
  {
   "cell_type": "markdown",
   "id": "aa008951",
   "metadata": {},
   "source": [
    "### [LAN Malware Scan](#LANMalwareScan) <br/><br/>\n",
    "<hr width=50%;>"
   ]
  },
  {
   "cell_type": "markdown",
   "id": "bed03190",
   "metadata": {},
   "source": [
    "### [Course Summary](#CourseSummary) <br/><br/>\n",
    "<hr width=50%;>"
   ]
  },
  {
   "cell_type": "markdown",
   "id": "bf2b95e2",
   "metadata": {},
   "source": [
    "***\n",
    "## END"
   ]
  },
  {
   "cell_type": "markdown",
   "id": "34aa6eb5",
   "metadata": {},
   "source": [
    "< [Table of Contents](#top) | [References](#references) >\n",
    "<a id=\"IntrusionDetectionandTrafficAnalysis\"></a>\n",
    "***\n",
    "### Intrusion Detection and Traffic Analysis\n",
    "***"
   ]
  },
  {
   "cell_type": "markdown",
   "id": "a10015fb",
   "metadata": {},
   "source": [
    "Discover how IT security analysts must recognized how malicious attacks take place. Explore how to analyze log results allows for the detection of security incidents. This course can be used in preparation for the CompTIA Cybersecurity Analyst (CySA+) Certification Exam CS0-002."
   ]
  },
  {
   "cell_type": "markdown",
   "id": "173e78b5",
   "metadata": {},
   "source": [
    "Objectives\n",
    "\n",
    "- discover the key concepts covered in this course <br/><br/>\n",
    "- identify suspicious log entries <br/><br/>\n",
    "- view a sample Burp Suite report <br/><br/>\n",
    "- scan a web app using nikto <br/><br/>\n",
    "- deploy Kali Linux as a cloud-based virtual machine <br/><br/>\n",
    "- install and configure the Snort IDS tool (mention sinkhole, antivirus heuristics) <br/><br/>\n",
    "- create a Snort IDS rule <br/><br/>\n",
    "- analyze an ICS traffic capture <br/><br/>\n",
    "- capture and analyze HTTP user authentication traffic <br/><br/>\n",
    "- playback a captured VoIP call <br/><br/>\n",
    "- upload a PCAP file for analysis <br/><br/>\n",
    "- enter a WPA password in WireShark to decrypt wireless traffic <br/><br/>\n",
    "- use hashing to detect file changes through steganography <br/><br/>\n",
    "- monitor, block, and configure notifications for devices on a Wi-Fi network using the eero app <br/><br/>\n",
    "- use third-party tool to encrypt sensitive files <br/><br/>\n",
    "- use aircrack-ng in Kali Linux to crack protected Wi-Fi networks <br/><br/>\n",
    "- use Kismet to detect Wi-Fi networks <br/><br/>\n",
    "- use Nessus to audit Amazon Web Services (AWS) <br/><br/>\n",
    "- use Nessus to scan LAN hosts for malware <br/><br/>\n",
    "- summarize the key concepts covered in this course <br/><br/>"
   ]
  },
  {
   "cell_type": "markdown",
   "id": "84b00380",
   "metadata": {},
   "source": [
    "< [Table of Contents](#top) | [References](#references) >\n",
    "<a id=\"SampleLogEntryAnalysis\"></a>\n",
    "***\n",
    "### Sample Log Entry Analysis\n",
    "***"
   ]
  },
  {
   "cell_type": "markdown",
   "id": "d82d85d7",
   "metadata": {},
   "source": []
  },
  {
   "cell_type": "markdown",
   "id": "b4da2efe",
   "metadata": {},
   "source": [
    "< [Table of Contents](#top) | [References](#references) >\n",
    "<a id=\"BurpSuiteReports\"></a>\n",
    "***\n",
    "### Burp Suite Reports\n",
    "***"
   ]
  },
  {
   "cell_type": "markdown",
   "id": "70f6e846",
   "metadata": {},
   "source": []
  },
  {
   "cell_type": "markdown",
   "id": "7b10c3a2",
   "metadata": {},
   "source": [
    "< [Table of Contents](#top) | [References](#references) >\n",
    "<a id=\"NiktoWebAppScanning\"></a>\n",
    "***\n",
    "### Nikto Web App Scanning\n",
    "***"
   ]
  },
  {
   "cell_type": "markdown",
   "id": "2cc18496",
   "metadata": {},
   "source": []
  },
  {
   "cell_type": "markdown",
   "id": "1ce9ff85",
   "metadata": {},
   "source": [
    "< [Table of Contents](#top) | [References](#references) >\n",
    "<a id=\"KaliLinuxCloudDeployment\"></a>\n",
    "***\n",
    "### Kali Linux Cloud Deployment\n",
    "***"
   ]
  },
  {
   "cell_type": "markdown",
   "id": "8bb9c616",
   "metadata": {},
   "source": []
  },
  {
   "cell_type": "markdown",
   "id": "d87809fd",
   "metadata": {},
   "source": [
    "< [Table of Contents](#top) | [References](#references) >\n",
    "<a id=\"SnortInstallation\"></a>\n",
    "***\n",
    "### Snort Installation\n",
    "***"
   ]
  },
  {
   "cell_type": "markdown",
   "id": "f0a909b6",
   "metadata": {},
   "source": []
  },
  {
   "cell_type": "markdown",
   "id": "c781a700",
   "metadata": {},
   "source": [
    "< [Table of Contents](#top) | [References](#references) >\n",
    "<a id=\"SnortRules\"></a>\n",
    "***\n",
    "### Snort Rules\n",
    "***"
   ]
  },
  {
   "cell_type": "markdown",
   "id": "cd41c08d",
   "metadata": {},
   "source": []
  },
  {
   "cell_type": "markdown",
   "id": "1256d7bf",
   "metadata": {},
   "source": [
    "< [Table of Contents](#top) | [References](#references) >\n",
    "<a id=\"IndustrialControlSystemNetworkTraffic\"></a>\n",
    "***\n",
    "### Industrial Control System Network Traffic\n",
    "***"
   ]
  },
  {
   "cell_type": "markdown",
   "id": "3ab13be8",
   "metadata": {},
   "source": []
  },
  {
   "cell_type": "markdown",
   "id": "47707114",
   "metadata": {},
   "source": [
    "< [Table of Contents](#top) | [References](#references) >\n",
    "<a id=\"HTTPAuthenticationTraffic\"></a>\n",
    "***\n",
    "### HTTP Authentication Traffic\n",
    "***"
   ]
  },
  {
   "cell_type": "markdown",
   "id": "5c5eb4ce",
   "metadata": {},
   "source": []
  },
  {
   "cell_type": "markdown",
   "id": "9adeceaf",
   "metadata": {},
   "source": [
    "< [Table of Contents](#top) | [References](#references) >\n",
    "<a id=\"VoIPTrafficAnalysis\"></a>\n",
    "***\n",
    "### VoIP Traffic Analysis\n",
    "***"
   ]
  },
  {
   "cell_type": "markdown",
   "id": "45d2f914",
   "metadata": {},
   "source": []
  },
  {
   "cell_type": "markdown",
   "id": "fd680b58",
   "metadata": {},
   "source": [
    "< [Table of Contents](#top) | [References](#references) >\n",
    "<a id=\"OnlineNetworkTrafficAnalysis\"></a>\n",
    "***\n",
    "### Online Network Traffic Analysis\n",
    "***"
   ]
  },
  {
   "cell_type": "markdown",
   "id": "86a67316",
   "metadata": {},
   "source": []
  },
  {
   "cell_type": "markdown",
   "id": "d438e44b",
   "metadata": {},
   "source": [
    "< [Table of Contents](#top) | [References](#references) >\n",
    "<a id=\"IEEE80211WPATraffic\"></a>\n",
    "***\n",
    "### IEEE 802.11 WPA Traffic\n",
    "***"
   ]
  },
  {
   "cell_type": "markdown",
   "id": "6779b825",
   "metadata": {},
   "source": []
  },
  {
   "cell_type": "markdown",
   "id": "bd89bb21",
   "metadata": {},
   "source": [
    "< [Table of Contents](#top) | [References](#references) >\n",
    "<a id=\"SteganographyandHashing\"></a>\n",
    "***\n",
    "### Steganography and Hashing\n",
    "***"
   ]
  },
  {
   "cell_type": "markdown",
   "id": "c9f42d31",
   "metadata": {},
   "source": []
  },
  {
   "cell_type": "markdown",
   "id": "88de3841",
   "metadata": {},
   "source": [
    "< [Table of Contents](#top) | [References](#references) >\n",
    "<a id=\"WiFiConnectedDevices\"></a>\n",
    "***\n",
    "### Wi-Fi Connected Devices\n",
    "***"
   ]
  },
  {
   "cell_type": "markdown",
   "id": "d78a1e66",
   "metadata": {},
   "source": []
  },
  {
   "cell_type": "markdown",
   "id": "cd59431a",
   "metadata": {},
   "source": [
    "< [Table of Contents](#top) | [References](#references) >\n",
    "<a id=\"ThirdpartyFileEncryption\"></a>\n",
    "***\n",
    "### Third-party File Encryption\n",
    "***"
   ]
  },
  {
   "cell_type": "markdown",
   "id": "5e3ec43a",
   "metadata": {},
   "source": []
  },
  {
   "cell_type": "markdown",
   "id": "efe79722",
   "metadata": {},
   "source": [
    "< [Table of Contents](#top) | [References](#references) >\n",
    "<a id=\"Aircrackng\"></a>\n",
    "***\n",
    "### Aircrack-ng\n",
    "***"
   ]
  },
  {
   "cell_type": "markdown",
   "id": "8bbc0df5",
   "metadata": {},
   "source": []
  },
  {
   "cell_type": "markdown",
   "id": "8fb4c7ed",
   "metadata": {},
   "source": [
    "< [Table of Contents](#top) | [References](#references) >\n",
    "<a id=\"Kismet\"></a>\n",
    "***\n",
    "### Kismet\n",
    "***"
   ]
  },
  {
   "cell_type": "markdown",
   "id": "064391e1",
   "metadata": {},
   "source": []
  },
  {
   "cell_type": "markdown",
   "id": "87ef0860",
   "metadata": {},
   "source": [
    "< [Table of Contents](#top) | [References](#references) >\n",
    "<a id=\"CloudVulnerabilityScanning\"></a>\n",
    "***\n",
    "### Cloud Vulnerability Scanning\n",
    "***"
   ]
  },
  {
   "cell_type": "markdown",
   "id": "c9456ff2",
   "metadata": {},
   "source": []
  },
  {
   "cell_type": "markdown",
   "id": "5519179d",
   "metadata": {},
   "source": [
    "< [Table of Contents](#top) | [References](#references) >\n",
    "<a id=\"LANMalwareScan\"></a>\n",
    "***\n",
    "### LAN Malware Scan\n",
    "***"
   ]
  },
  {
   "cell_type": "markdown",
   "id": "a47c4a8d",
   "metadata": {},
   "source": []
  },
  {
   "cell_type": "markdown",
   "id": "df57055f",
   "metadata": {},
   "source": [
    "< [Table of Contents](#top) | [References](#references) >\n",
    "<a id=\"CourseSummary\"></a>\n",
    "***\n",
    "### Course Summary\n",
    "***"
   ]
  },
  {
   "cell_type": "markdown",
   "id": "81c2f91e",
   "metadata": {},
   "source": []
  },
  {
   "cell_type": "markdown",
   "id": "2cc20932",
   "metadata": {},
   "source": [
    "***\n",
    "## END"
   ]
  },
  {
   "cell_type": "markdown",
   "id": "e0e42d51",
   "metadata": {},
   "source": [
    "< [Table of Contents](#top) >\n",
    "<a id=\"references\"></a>\n",
    "***\n",
    "## References\n",
    "***"
   ]
  },
  {
   "cell_type": "markdown",
   "id": "757bf6de",
   "metadata": {},
   "source": [
    "&nbsp;&nbsp;&nbsp;&nbsp;&nbsp;&nbsp;&nbsp;&nbsp;&nbsp;skillsoft, \"Intrusion Detection and Traffic Analysis,\" [skillsoft.com](https://web.archive.org/web/20220403100053/https://www.skillsoft.com/), n.d.."
   ]
  },
  {
   "cell_type": "markdown",
   "id": "b33c372a",
   "metadata": {},
   "source": [
    "***\n",
    "## END"
   ]
  },
  {
   "cell_type": "markdown",
   "id": "e5961b4d",
   "metadata": {},
   "source": [
    "< [Table of Contents](#top) | [References](#references) >\n",
    "<a id=\"appendix\"></a>\n",
    "***\n",
    "## Appendix\n",
    "***"
   ]
  },
  {
   "cell_type": "markdown",
   "id": "00d82a82",
   "metadata": {},
   "source": [
    "***\n",
    "## END"
   ]
  },
  {
   "cell_type": "code",
   "execution_count": 1,
   "id": "706756a2",
   "metadata": {},
   "outputs": [
    {
     "data": {
      "text/html": [
       "<style>.container { width:100% !important; }</style>"
      ],
      "text/plain": [
       "<IPython.core.display.HTML object>"
      ]
     },
     "metadata": {},
     "output_type": "display_data"
    }
   ],
   "source": [
    "from IPython.core.display import display,HTML\n",
    "display(HTML(\"<style>.container { width:100% !important; }</style>\"))"
   ]
  },
  {
   "cell_type": "markdown",
   "id": "899c1783",
   "metadata": {},
   "source": [
    "# END JUPYTER NOTEBOOK"
   ]
  }
 ],
 "metadata": {
  "kernelspec": {
   "display_name": "Python 3",
   "language": "python",
   "name": "python3"
  },
  "language_info": {
   "codemirror_mode": {
    "name": "ipython",
    "version": 3
   },
   "file_extension": ".py",
   "mimetype": "text/x-python",
   "name": "python",
   "nbconvert_exporter": "python",
   "pygments_lexer": "ipython3",
   "version": "3.8.8"
  }
 },
 "nbformat": 4,
 "nbformat_minor": 5
}
